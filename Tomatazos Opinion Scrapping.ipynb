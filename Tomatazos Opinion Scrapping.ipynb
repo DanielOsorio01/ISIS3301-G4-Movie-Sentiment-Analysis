{
 "cells": [
  {
   "cell_type": "code",
   "execution_count": null,
   "id": "1db5fbf7",
   "metadata": {},
   "outputs": [],
   "source": [
    "import requests\n",
    "from bs4 import BeautifulSoup\n",
    "import csv\n",
    "\n",
    "# URL de la página con las opiniones de la película\n",
    "url = 'https://www.tomatazos.com/peliculas/427649/Guardianes-de-la-Galaxia-Vol-3'\n",
    "\n",
    "# Realizar una solicitud GET a la página\n",
    "response = requests.get(url)\n",
    "\n",
    "# Analizar el contenido HTML de la página usando BeautifulSoup\n",
    "soup = BeautifulSoup(response.text, 'html.parser')\n",
    "\n",
    "# Encontrar todas las etiquetas de revisión\n",
    "reviews = soup.find_all('div', {'class': 'review_content'})\n",
    "\n",
    "# Crear una lista vacía para almacenar las opiniones\n",
    "opiniones = []\n",
    "\n",
    "# Iterar a través de cada etiqueta de revisión y extraer la opinión\n",
    "for review in reviews:\n",
    "    opinion = review.find('div', {'class': 'review'}).text\n",
    "    #Quitar espacios iniciales y finales\n",
    "    opinion = opinion.strip()\n",
    "    opiniones.append(opinion)\n",
    "\n",
    "# Guardar las opiniones en un archivo CSV\n",
    "with open('opiniones.csv', mode='w', newline='') as file:\n",
    "    writer = csv.writer(file)\n",
    "    writer.writerow(['Opinion'])\n",
    "\n",
    "    for opinion in opiniones:\n",
    "        writer.writerow([opinion])"
   ]
  }
 ],
 "metadata": {
  "kernelspec": {
   "display_name": "Python 3 (ipykernel)",
   "language": "python",
   "name": "python3"
  },
  "language_info": {
   "codemirror_mode": {
    "name": "ipython",
    "version": 3
   },
   "file_extension": ".py",
   "mimetype": "text/x-python",
   "name": "python",
   "nbconvert_exporter": "python",
   "pygments_lexer": "ipython3",
   "version": "3.9.13"
  }
 },
 "nbformat": 4,
 "nbformat_minor": 5
}
