{
 "cells": [
  {
   "attachments": {},
   "cell_type": "markdown",
   "metadata": {},
   "source": [
    "# **Analisis de sentimientos de comentarios de películas**\n",
    "\n",
    "### Integrantes:\n",
    "* Ángela Vargas\n",
    "* Juan Martin Santos\n",
    "* Daniel Osorio\n",
    "\n",
    "## **Caso**\n",
    "Análisis de sentimientos de películas. Este proyecto tiene comentarios de películas\n",
    "en español, que deben ser clasificadas en las categorías de positivo, negativo. Esto por medio de técnicas para el procesamiento de lenguaje natural.\n",
    "\n",
    "## **Entendimiento de los datos**\n",
    "Primero vamos a cargar los datos en un DataFrame para luego revisar la calidad de estos en cuanto a completitud, consistencia y unicidad."
   ]
  },
  {
   "cell_type": "code",
   "execution_count": 55,
   "metadata": {},
   "outputs": [
    {
     "name": "stderr",
     "output_type": "stream",
     "text": [
      "[nltk_data] Downloading package stopwords to\n",
      "[nltk_data]     C:\\Users\\jm200\\AppData\\Roaming\\nltk_data...\n",
      "[nltk_data]   Package stopwords is already up-to-date!\n"
     ]
    }
   ],
   "source": [
    "import pandas as pd\n",
    "\n",
    "import matplotlib.pyplot as plt\n",
    "import seaborn as sns\n",
    "import numpy as np\n",
    "\n",
    "import nltk\n",
    "# Se descargan las stopwords (despues se usan para eliminar palabras que no aportan informacion)\n",
    "nltk.download('stopwords')\n",
    "from nltk.tokenize import wordpunct_tokenize\n",
    "from nltk.corpus import stopwords\n",
    "from nltk.stem import SnowballStemmer\n",
    "from sklearn.model_selection import train_test_split\n",
    "from sklearn.feature_extraction.text import CountVectorizer\n",
    "from sklearn.naive_bayes import MultinomialNB\n",
    "from sklearn.metrics import confusion_matrix, ConfusionMatrixDisplay, classification_report, precision_score, recall_score, f1_score, accuracy_score\n",
    "from sklearn.ensemble import RandomForestClassifier\n",
    "from langdetect import detect\n",
    "# Este comando es requerido para que las visualizaciones se muestren en este notebook\n",
    "%matplotlib inline"
   ]
  },
  {
   "cell_type": "code",
   "execution_count": 23,
   "metadata": {},
   "outputs": [],
   "source": [
    "pd.set_option('display.max_columns', None) # Número máximo de columnas a mostrar\n",
    "pd.set_option('display.max_rows', 50) # Numero máximo de filas a mostar"
   ]
  },
  {
   "cell_type": "code",
   "execution_count": 24,
   "metadata": {},
   "outputs": [],
   "source": [
    "# Lectura de datos en formato CSV\n",
    "# Los datos son almacenados en memoria usando una estructura de datos de Pandas conocida como dataframe\n",
    "df_reviews = pd.read_csv('./data/MovieReviews.csv')"
   ]
  },
  {
   "cell_type": "code",
   "execution_count": 25,
   "metadata": {},
   "outputs": [
    {
     "data": {
      "text/plain": [
       "(5000, 3)"
      ]
     },
     "execution_count": 25,
     "metadata": {},
     "output_type": "execute_result"
    }
   ],
   "source": [
    "# Muestra el numero de filas y columnas del dataframe\n",
    "df_reviews.shape"
   ]
  },
  {
   "cell_type": "code",
   "execution_count": 26,
   "metadata": {},
   "outputs": [
    {
     "data": {
      "text/html": [
       "<div>\n",
       "<style scoped>\n",
       "    .dataframe tbody tr th:only-of-type {\n",
       "        vertical-align: middle;\n",
       "    }\n",
       "\n",
       "    .dataframe tbody tr th {\n",
       "        vertical-align: top;\n",
       "    }\n",
       "\n",
       "    .dataframe thead th {\n",
       "        text-align: right;\n",
       "    }\n",
       "</style>\n",
       "<table border=\"1\" class=\"dataframe\">\n",
       "  <thead>\n",
       "    <tr style=\"text-align: right;\">\n",
       "      <th></th>\n",
       "      <th>Unnamed: 0</th>\n",
       "      <th>review_es</th>\n",
       "      <th>sentimiento</th>\n",
       "    </tr>\n",
       "  </thead>\n",
       "  <tbody>\n",
       "    <tr>\n",
       "      <th>2982</th>\n",
       "      <td>2982</td>\n",
       "      <td>Jack Frost, no hay hijos. No es la película fa...</td>\n",
       "      <td>negativo</td>\n",
       "    </tr>\n",
       "    <tr>\n",
       "      <th>3317</th>\n",
       "      <td>3317</td>\n",
       "      <td>¿Por qué alguien querría ver esto? Si esta era...</td>\n",
       "      <td>negativo</td>\n",
       "    </tr>\n",
       "    <tr>\n",
       "      <th>2500</th>\n",
       "      <td>2500</td>\n",
       "      <td>Woody Allen (que tengo que confesar desde el p...</td>\n",
       "      <td>negativo</td>\n",
       "    </tr>\n",
       "    <tr>\n",
       "      <th>1519</th>\n",
       "      <td>1519</td>\n",
       "      <td>\"El río River\" fue una de las películas más pe...</td>\n",
       "      <td>positivo</td>\n",
       "    </tr>\n",
       "    <tr>\n",
       "      <th>787</th>\n",
       "      <td>787</td>\n",
       "      <td>Brian Yuzna a menudo suele fruncir el ceño com...</td>\n",
       "      <td>positivo</td>\n",
       "    </tr>\n",
       "  </tbody>\n",
       "</table>\n",
       "</div>"
      ],
      "text/plain": [
       "      Unnamed: 0                                          review_es  \\\n",
       "2982        2982  Jack Frost, no hay hijos. No es la película fa...   \n",
       "3317        3317  ¿Por qué alguien querría ver esto? Si esta era...   \n",
       "2500        2500  Woody Allen (que tengo que confesar desde el p...   \n",
       "1519        1519  \"El río River\" fue una de las películas más pe...   \n",
       "787          787  Brian Yuzna a menudo suele fruncir el ceño com...   \n",
       "\n",
       "     sentimiento  \n",
       "2982    negativo  \n",
       "3317    negativo  \n",
       "2500    negativo  \n",
       "1519    positivo  \n",
       "787     positivo  "
      ]
     },
     "execution_count": 26,
     "metadata": {},
     "output_type": "execute_result"
    }
   ],
   "source": [
    "# Muestra de 5 filas aleatorias del dataframe\n",
    "df_reviews.sample(5)"
   ]
  },
  {
   "cell_type": "code",
   "execution_count": 27,
   "metadata": {},
   "outputs": [
    {
     "data": {
      "text/plain": [
       "Unnamed: 0      int64\n",
       "review_es      object\n",
       "sentimiento    object\n",
       "dtype: object"
      ]
     },
     "execution_count": 27,
     "metadata": {},
     "output_type": "execute_result"
    }
   ],
   "source": [
    "# Muestra el tipo de datos de cada columna\n",
    "df_reviews.dtypes"
   ]
  },
  {
   "cell_type": "code",
   "execution_count": 28,
   "metadata": {},
   "outputs": [
    {
     "data": {
      "text/plain": [
       "positivo    2500\n",
       "negativo    2500\n",
       "Name: sentimiento, dtype: int64"
      ]
     },
     "execution_count": 28,
     "metadata": {},
     "output_type": "execute_result"
    }
   ],
   "source": [
    "# Muestra los diferentes valores de la columna sentimiento\n",
    "df_reviews['sentimiento'].value_counts()"
   ]
  },
  {
   "attachments": {},
   "cell_type": "markdown",
   "metadata": {},
   "source": [
    "Como podemos observar, tenemos 5000 registros (reviews) de los cuales la mitad corresponden a reviews positivas y la otra mitad a reviews negativas. Existe consistencia en los valores de la columna sentimiento. Como existen 2500 positivos y 2500 negativos, podemos decir que la completitud de los datos para la columna sentimiento es del 100%, vamos a revisar ahora la completitud para la columna *review_es*."
   ]
  },
  {
   "cell_type": "code",
   "execution_count": 29,
   "metadata": {},
   "outputs": [
    {
     "data": {
      "text/plain": [
       "0"
      ]
     },
     "execution_count": 29,
     "metadata": {},
     "output_type": "execute_result"
    }
   ],
   "source": [
    "# Muestra la cantidad de valores nulos para la columna review_es\n",
    "df_reviews['review_es'].isnull().sum()"
   ]
  },
  {
   "attachments": {},
   "cell_type": "markdown",
   "metadata": {},
   "source": [
    "Como podemos observar, tenemos una completitud del 100% en la columna review_es, por lo que no es necesario realizar ningún tipo de limpieza de datos a nivel de intregridad y completitud de los datos. Sin emabrgo, nos percatamos que dentro del conjunto de datos hay comentarios que estan en ingles por lo que obtaremos por eliminar estas filas, esta decision se toma debido a las necesidades del negocio de analisar comentarios en español.\n",
    "## **Preprocesamiento**\n"
   ]
  },
  {
   "attachments": {},
   "cell_type": "markdown",
   "metadata": {},
   "source": [
    "Como libreria para limpiar las filas con los comentarios en ingles usaremos langdetect que nos permitira tomar todo el comentario y determinar el idioma en el que esta."
   ]
  },
  {
   "cell_type": "code",
   "execution_count": 32,
   "metadata": {},
   "outputs": [],
   "source": [
    "#Iteramos en cada una de las filas del dataframe\n",
    "for index, row in df_reviews.iterrows():\n",
    "    # Si el valor de la fila es en la elimina\n",
    "    if detect(row['review_es']) != 'es':\n",
    "        df_reviews.drop(index, inplace=True)"
   ]
  },
  {
   "attachments": {},
   "cell_type": "markdown",
   "metadata": {},
   "source": [
    "Como libreria para el procesamiento de lenguaje natural vamos a utilizar NLTK (Natural Language Tool Kit). Primero definimos un set de stopwords en español. Las stopwords son esas palabras que no aportan significado al texto para la tarea de clasificación. Estas palabras vacías pueden ser conectores propios del idioma, pronombres o puntos y comas. Algunas stopwords del español son por ejemplo las siguientes."
   ]
  },
  {
   "cell_type": "code",
   "execution_count": 33,
   "metadata": {},
   "outputs": [
    {
     "name": "stdout",
     "output_type": "stream",
     "text": [
      "['tuvieses', 'soy', 'serán', 'un', 'esto', 'tenéis', 'tengas', 'algunos', 'estuvo', 'sintiendo', 'fue', 'seríais', 'nuestra', 'les', 'vuestros', 'fuésemos', 'tuvieseis', 'contra', 'estarías', 'estuvisteis', 'son', 'con', 'y', 'fuisteis', 'muy', 'desde', 'estés', 'lo', 'se', 'cuando', 'tuyos', 'los', 'estaríamos', 'estado', 'estaba', 'estuvieras', 'fueseis', 'qué', 'el', 'somos', 'sí', 'tenemos', 'he', 'sobre', 'estuvieseis', 'estarían', 'habidas', 'serían', 'ante', 'teníais', 'hemos', 'o', 'mío', 'tendríamos', 'están', 'él', 'esos', 'éramos', 'tienen', 'vuestra', 'estará', 'siente', 'fuimos', 'estaremos', 'fuera', 'la', 'sentid', 'hayáis', 'durante', 'tuviera', 'sentidas', 'nos', 'tuvo', 'mí', 'estada', 'pero', 'estamos', 'hubieras', 'estás', 'sentidos', 'estadas', 'de', 'habréis', 'seamos', 'tuvimos', 'mi', 'estuviesen', 'sea', 'tuviesen', 'tendrán', 'me', 'estuviera', 'os', 'suyas', 'tuvieran', 'tiene', 'porque', 'estaríais', 'tenga', 'vuestro', 'hubieran', 'teníamos', 'entre', 'tuyo', 'estabais', 'hay', 'habido', 'tengáis', 'eres', 'estar', 'donde', 'sois', 'estad', 'has', 'vuestras', 'habrán', 'hubiésemos', 'fueses', 'tenían', 'tuvieras', 'hubiéramos', 'habéis', 'nuestro', 'otro', 'tengamos', 'tuviésemos', 'habrá', 'estemos', 'estarán', 'habida', 'sin', 'hayan', 'uno', 'tus', 'tendrías', 'seas', 'que', 'por', 'hubieron', 'nosotros', 'quienes', 'nuestros', 'habrás', 'tenidas', 'a', 'sentida', 'esté', 'haya', 'sería', 'ha', 'habías', 'hubisteis', 'ellas', 'estando', 'tendría', 'habríamos', 'eran', 'tendré', 'estuviésemos', 'ti', 'tengo', 'le', 'estuvieron', 'estuviese', 'erais', 'ni', 'habrían', 'habríais', 'tendréis', 'ese', 'hasta', 'hubieses', 'tú', 'estaréis', 'hubiese', 'yo', 'habíais', 'en', 'nada', 'estados', 'para', 'hayamos', 'más', 'tendremos', 'seríamos', 'algo', 'estábamos', 'hubo', 'otros', 'habían', 'esta', 'tenido', 'muchos', 'estáis', 'quien', 'del', 'al', 'suyo', 'todo', 'ella', 'estaban', 'seremos', 'tuviéramos', 'es', 'era', 'hubimos', 'había', 'no', 'una', 'fueras', 'este', 'esas', 'su', 'estuvieran', 'han', 'hayas', 'seréis', 'e', 'fuese', 'tuve', 'otras', 'tendrá', 'estuvimos', 'vosotras', 'hubiste', 'mía', 'nuestras', 'está', 'te', 'las', 'suyos', 'fuesen', 'teniendo', 'estuvierais', 'tened', 'otra', 'estarás', 'seáis', 'habré', 'estabas', 'fuiste', 'hubieseis', 'esa', 'serás', 'eras', 'tenida', 'todos', 'tuviste', 'unos', 'nosotras', 'hubierais', 'fuéramos', 'estén', 'tu', 'estoy', 'tendrás', 'habíamos', 'serías', 'hube', 'ya', 'como', 'hubiesen', 'también', 'tuviese', 'tuya', 'hubiera', 'sean', 'sus', 'eso', 'mis', 'tanto', 'cual', 'tenidos', 'habidos', 'habrías', 'estuviéramos', 'estuviste', 'poco', 'mucho', 'tenías', 'fuerais', 'algunas', 'será', 'estuve', 'estaría', 'habremos', 'tuvisteis', 'antes', 'tuvieron', 'suya', 'estuvieses', 'estéis', 'tenía', 'ellos', 'fueran', 'seré', 'mías', 'vosotros', 'estas', 'míos', 'fueron', 'tienes', 'tuyas', 'habiendo', 'tendrían', 'tengan', 'estaré', 'tendríais', 'habría', 'fui', 'estos', 'sentido', 'tuvierais', '.', '[', ']', ',', ';', '', ')', '),', ' ', '(']\n"
     ]
    }
   ],
   "source": [
    "# Seteamos las stopwords en español\n",
    "stop_words = set(stopwords.words('spanish'))\n",
    "# Agregamos a las stopwords tambien los signos de puntuacion\n",
    "# Se agrega una u a la izquierda para indicar que es un string unicode, sin embargo no es necesario\n",
    "stop_words = list(stop_words)\n",
    "stop_words.extend([u'.', u'[', ']', u',', u';', u'', u')', u'),', u' ', u'('])\n",
    "print(stop_words)"
   ]
  },
  {
   "attachments": {},
   "cell_type": "markdown",
   "metadata": {},
   "source": [
    "Luego se utiliza el Snowball stemming algorithm, este algoritmo lo que hace es transformar/reducir las palabras a su forma base, aqui hacemos un ejemplo con la palabra 'corriendo' y 'correr'"
   ]
  },
  {
   "cell_type": "code",
   "execution_count": 34,
   "metadata": {},
   "outputs": [
    {
     "data": {
      "text/plain": [
       "'corr'"
      ]
     },
     "execution_count": 34,
     "metadata": {},
     "output_type": "execute_result"
    }
   ],
   "source": [
    "snowball_stemmer = SnowballStemmer('spanish')\n",
    "snowball_stemmer.stem('corriendo')"
   ]
  },
  {
   "cell_type": "code",
   "execution_count": 35,
   "metadata": {},
   "outputs": [
    {
     "data": {
      "text/plain": [
       "'corr'"
      ]
     },
     "execution_count": 35,
     "metadata": {},
     "output_type": "execute_result"
    }
   ],
   "source": [
    "snowball_stemmer.stem('correr')"
   ]
  },
  {
   "attachments": {},
   "cell_type": "markdown",
   "metadata": {},
   "source": [
    "Para tokenizar utilizamos la función *wordpunct_tokenize()* que tiene la libreria NLTK. Esta función, a diferencia de la función *word_tokenize()*, almacena los signos de puntuación como tokens diferentes. El *word.isapha()* es para revisar que la palabra no sea de una sola letra como por ejemplo 'y'. Luego se revisa que la palabra en minuscula no esté entre las stopwords antes de tokenizarla. A continuación un ejemplo de como funciona"
   ]
  },
  {
   "cell_type": "code",
   "execution_count": 36,
   "metadata": {},
   "outputs": [
    {
     "name": "stdout",
     "output_type": "stream",
     "text": [
      "['ejemplo', 'reseña', 'español']\n"
     ]
    }
   ],
   "source": [
    "# Ejemplo de como se tokenizan las palabras de una reseña\n",
    "review_example = \"Este es un ejemplo de una reseña en español.\"\n",
    "review_tokens = [word.lower() for word in wordpunct_tokenize(review_example) if word.isalpha() and word.lower() not in stop_words]\n",
    "print(review_tokens)"
   ]
  },
  {
   "attachments": {},
   "cell_type": "markdown",
   "metadata": {},
   "source": [
    "Ahora aplicamos esto para cada fila de la columna 'review_es'. Para esto definimos la funcion lamba a cada fila de la columna review utilizando el metodo apply. Se hace todo el proceso de tokenizacion mostrado anteriormente y se vuelve a juntar el texto con el metodo join(). El string resultante es ahora el nuevo valor para la fila en la columna 'review_es'."
   ]
  },
  {
   "cell_type": "code",
   "execution_count": 37,
   "metadata": {},
   "outputs": [],
   "source": [
    "df_reviews['review_es'] = df_reviews['review_es'].apply(lambda x: ' '.join([snowball_stemmer.stem(word.lower()) for word in wordpunct_tokenize(x) if (word.isalpha() and word.lower() not in stop_words)]))"
   ]
  },
  {
   "cell_type": "code",
   "execution_count": 38,
   "metadata": {},
   "outputs": [
    {
     "data": {
      "text/plain": [
       "0    si busc pelicul guerr tipic asi not aficion gu...\n",
       "1    supong director pelicul luj sent busc abrig gr...\n",
       "2    dificil cont pelicul estrop disfrut esper vien...\n",
       "3    pelicul comienz lent estil vid wallac napalm a...\n",
       "4    pelicul verdader accion maxim expresion mejor ...\n",
       "Name: review_es, dtype: object"
      ]
     },
     "execution_count": 38,
     "metadata": {},
     "output_type": "execute_result"
    }
   ],
   "source": [
    "df_reviews['review_es'].head(5)"
   ]
  },
  {
   "attachments": {},
   "cell_type": "markdown",
   "metadata": {},
   "source": [
    "Usamos el *CountVectorizer()* que nos da la cuenta de cada de cada palabra para cada review, lo cual podemos usar para los modelos que crearemos a continuación."
   ]
  },
  {
   "cell_type": "code",
   "execution_count": 39,
   "metadata": {},
   "outputs": [],
   "source": [
    "# Extraer la cuenta de cada palabra para cada review\n",
    "vectorizer = CountVectorizer()\n",
    "X = vectorizer.fit_transform(df_reviews['review_es'])\n",
    "y = df_reviews['sentimiento']"
   ]
  },
  {
   "cell_type": "code",
   "execution_count": 40,
   "metadata": {},
   "outputs": [],
   "source": [
    "# Dividimos los datos en entrenamiento y test\n",
    "X_train, X_test, y_train, y_test = train_test_split(X, y, test_size=0.2, random_state=0)"
   ]
  },
  {
   "attachments": {},
   "cell_type": "markdown",
   "metadata": {},
   "source": [
    "## **Modelos**\n",
    "\n",
    "### **Multinomial Naive Bayes**\n",
    "\n",
    "Escogimos este algoritmo porque trabaja muy bien con datos discretos, lo cual lo hace especialmente bueno para una tarea de clasificacion como si el comentario es positivo o negativo. El algoritmo realiza el calculo de la probabilidad de que cada palabra de una review pertenezca a una clase (positivo o negativo) y luego utiliza estas probabilidades con el teorema de Bayes para calcular la probabilidad de que una review pertenezca a una clase. El algoritmo asume que la probabilidad de una palabra es independiente de las otras, por lo cual es llamado 'naive' Bayes."
   ]
  },
  {
   "cell_type": "code",
   "execution_count": 67,
   "metadata": {},
   "outputs": [
    {
     "name": "stdout",
     "output_type": "stream",
     "text": [
      "Exactitud sobre test: 0.82\n",
      "Recall: 0.8012684989429175\n",
      "Precisión: 0.8293216630196937\n",
      "Puntuación F1: 0.8150537634408603\n"
     ]
    }
   ],
   "source": [
    "# Entrenar el modelo\n",
    "multinomialNB = MultinomialNB()\n",
    "multinomialNB.fit(X_train, y_train)\n",
    "\n",
    "# Predicción\n",
    "y_train_pred = multinomialNB.predict(X_train)\n",
    "y_pred = multinomialNB.predict(X_test)\n",
    "\n",
    "# Metricas de evaluacion\n",
    "print('Exactitud sobre test: %.2f' % accuracy_score(y_test, y_pred))\n",
    "print(\"Recall: {}\".format(recall_score(y_test, y_pred, pos_label='positivo')))\n",
    "print(\"Precisión: {}\".format(precision_score(y_test, y_pred, pos_label='positivo')))\n",
    "print(\"Puntuación F1: {}\".format(f1_score(y_test, y_pred, pos_label='positivo')))"
   ]
  },
  {
   "cell_type": "code",
   "execution_count": 54,
   "metadata": {},
   "outputs": [
    {
     "data": {
      "image/png": "[encoded data removed]",
      "text/plain": [
       "<Figure size 640x480 with 2 Axes>"
      ]
     },
     "metadata": {},
     "output_type": "display_data"
    }
   ],
   "source": [
    "# Matriz de confusion\n",
    "cm = confusion_matrix(y_test, y_pred)\n",
    "\n",
    "# Crear una instancia de ConfusionMatrixDisplay con la matriz de confusión\n",
    "cm_display = ConfusionMatrixDisplay(confusion_matrix=cm)\n",
    "\n",
    "# Mostrar la matriz de confusión utilizando la función plot() de ConfusionMatrixDisplay\n",
    "cm_display.plot(cmap='Reds')\n",
    "\n",
    "# Añadir etiquetas y títulos\n",
    "plt.xlabel('Predicted')\n",
    "plt.ylabel('True')\n",
    "plt.title('Confusion Matrix')\n",
    "\n",
    "# Mostrar la matriz de confusión\n",
    "plt.show()"
   ]
  },
  {
   "attachments": {},
   "cell_type": "markdown",
   "metadata": {},
   "source": [
    "### Random forest\n",
    "Escogimos este algoritmo porque este es capaz de manejar caracteristicas de alta dimension lo que favorece en el analisis de texto por la extension de los mismos. Ademas, maneja muy bien el overfitting. El algoritmo se basa en arboles de decision y funciona de la siguiente forma: Selecciona aleatoriamente un subconjunto de muestras; Selecciona aleatoriamente un subconjunto de caracteristicas; con las muestras y caracteristicas seleccionadas se construyen varios arboles de decision; por ultimo se selecciona el arbol de decision que obtiene mayor votacion dados sus resultados."
   ]
  },
  {
   "cell_type": "code",
   "execution_count": 66,
   "metadata": {},
   "outputs": [
    {
     "name": "stdout",
     "output_type": "stream",
     "text": [
      "Exactitud sobre test: 0.84\n",
      "Recall: 0.8456659619450317\n",
      "Precisión: 0.8247422680412371\n",
      "Puntuación F1: 0.8350730688935282\n"
     ]
    }
   ],
   "source": [
    "# Creamos el clasificador de random forest con 100 arboles\n",
    "rf = RandomForestClassifier(n_estimators=100, random_state=0)\n",
    "# Entrenamos el modelo\n",
    "y_train_pred_rf = rf.fit(X_train, y_train)\n",
    "# Realizamos la predicción\n",
    "y_pred_rf = rf.predict(X_test)\n",
    "\n",
    "# Metricas de evaluacion\n",
    "print('Exactitud sobre test: %.2f' % accuracy_score(y_test, y_pred_rf))\n",
    "print(\"Recall: {}\".format(recall_score(y_test, y_pred_rf, pos_label='positivo')))\n",
    "print(\"Precisión: {}\".format(precision_score(y_test, y_pred_rf, pos_label='positivo')))\n",
    "print(\"Puntuación F1: {}\".format(f1_score(y_test, y_pred_rf, pos_label='positivo')))"
   ]
  },
  {
   "cell_type": "code",
   "execution_count": null,
   "metadata": {},
   "outputs": [],
   "source": []
  }
 ],
 "metadata": {
  "kernelspec": {
   "display_name": "base",
   "language": "python",
   "name": "python3"
  },
  "language_info": {
   "codemirror_mode": {
    "name": "ipython",
    "version": 3
   },
   "file_extension": ".py",
   "mimetype": "text/x-python",
   "name": "python",
   "nbconvert_exporter": "python",
   "pygments_lexer": "ipython3",
   "version": "3.9.13"
  },
  "orig_nbformat": 4
 },
 "nbformat": 4,
 "nbformat_minor": 2
}
