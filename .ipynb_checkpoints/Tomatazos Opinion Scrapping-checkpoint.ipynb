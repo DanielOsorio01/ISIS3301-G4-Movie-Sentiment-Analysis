{
 "cells": [
  {
   "cell_type": "code",
   "execution_count": 24,
   "id": "f572071a",
   "metadata": {},
   "outputs": [
    {
     "name": "stdout",
     "output_type": "stream",
     "text": [
      "['...el Vol. 3 es más oscuro que sus predecesores, con el escritor y director profundizando en la desgarradora historia de fondo del mapache Rocket mientras enfrenta a sus camaradas inadaptados contra un nuevo villano infame. Sin embargo, el cambio de tono no niega el toque alegre de esta serie, ni la nueva película se empantana en el mismo tedioso juego narrativo general que ha estropeado muchas películas recientes de Marvel. Para una historia sobre la importancia de dejar ir, este supuesto capítulo final de la saga Guardianes demuestra ser una despedida satisfactoria.', 'En general, Gunn ha encabezado una franquicia con una configuración y recompensa increíbles para cada personaje del equipo. Es casi imposible no ver estos momentos finales sin una gran sonrisa. Guardianes de la Galaxia Vol. 3  es una celebración sincera de la imperfección que da la bienvenida a todos a la familia titular de la película. Gunn sigue siendo un director a tener en cuenta gracias a su narración sincera y su visión única...', \"Al final, 'Guardianes de la Galaxia Vol. 3 ' no es una película perfecta y, en cierto modo, no es tan divertida como las dos películas anteriores, pero es una despedida muy amorosa para el equipo actual y una mirada oscura y emocional a estos amados personajes.\", 'La película es un ejercicio gigantesco, desde su duración (dos horas y media, es la más larga de las tres) hasta sus escenarios (enormes, elaborados) y su deseo de terminar con una nota de bienestar completa con un gigantesco abrazo grupal en el fin. Lo que escasea es el tipo de humor genuino que iluminó la primera cinta. Chistes como personajes que llaman a Rocket erizo o tejón son demasiado familiares hasta el punto de ser obsoletos. Sus excesos hacen de este filme castigador en todos los sentidos.', 'El éxito de “Guardianes de la Galaxia Vol. 3 ” demuestra que aún es posible que las películas de Marvel tengan éxito después de más de 30 películas, pero también que cada vez es más difícil lograrlo. Marvel Studios elevó el listón tan alto que ahora tienen problemas para alcanzarlo. Pero a veces todavía vale la pena el esfuerzo.', '“Guardianes de la Galaxia Vol. 3 ” es un final en general divertido, emocionante y emotivo para lo que ha sido una trilogía consistentemente encantadora dentro de la MCU. Gunn está haciendo su salida de la misma manera que entró, en sus propios términos, contando una historia extraña y peculiar sobre un grupo de forasteros que se encontraron de mala gana y (accidentalmente) se convirtieron en una familia en el camino.', 'Guardianes de la Galaxia Vol. 3  es una obra maestra cinematográfica que te dejará riendo, llorando y vitoreando, todo a la vez. Es una experiencia sorprendente e impresionante, Gunn ha demostrado una vez más que es uno de los directores más talentosos y visionarios que trabajan en la actualidad, y esta película es un testimonio de sus increíbles habilidades narrativas y creatividad.', 'Hay grandes canciones, y Dave Bautista, como Drax, es tan delirantemente encantador como siempre, pero Pratt, con su propensión a parecerse a un ciervo en los faros y cómodo en su papel como una máquina de entrega de bromas, sigue siendo poco más que un gusto adquirido. Tampoco ayuda que a la película no le falten personajes secundarios sin un propósito real, y que nunca equilibre efectivamente su tema más importante con su deseo de ser un viaje divertido para audiencias de todas las edades.']\n"
     ]
    }
   ],
   "source": [
    "import requests\n",
    "from bs4 import BeautifulSoup\n",
    "import csv\n",
    "\n",
    "# URL de la página con las opiniones de la película\n",
    "url = 'https://www.tomatazos.com/peliculas/427649/Guardianes-de-la-Galaxia-Vol-3'\n",
    "\n",
    "# Realizar una solicitud GET a la página\n",
    "response = requests.get(url)\n",
    "\n",
    "# Analizar el contenido HTML de la página usando BeautifulSoup\n",
    "soup = BeautifulSoup(response.text, 'html.parser')\n",
    "\n",
    "# Encontrar todas las etiquetas de revisión\n",
    "reviews = soup.find_all('div', {'class': 'review_content'})\n",
    "\n",
    "# Crear una lista vacía para almacenar las opiniones\n",
    "opiniones = []\n",
    "\n",
    "# Iterar a través de cada etiqueta de revisión y extraer la opinión\n",
    "for review in reviews:\n",
    "    opinion = review.find('div', {'class': 'review'}).text\n",
    "    #Quitar espacios iniciales y finales\n",
    "    opinion = opinion.strip()\n",
    "    opiniones.append(opinion)\n",
    "\n",
    "# Guardar las opiniones en un archivo CSV\n",
    "with open('opiniones.csv', mode='w', newline='') as file:\n",
    "    writer = csv.writer(file)\n",
    "    writer.writerow(['Opinion'])\n",
    "\n",
    "    for opinion in opiniones:\n",
    "        writer.writerow([opinion])"
   ]
  },
  {
   "cell_type": "code",
   "execution_count": 14,
   "id": "5355301d",
   "metadata": {},
   "outputs": [],
   "source": []
  },
  {
   "cell_type": "code",
   "execution_count": null,
   "id": "5667bad6",
   "metadata": {},
   "outputs": [],
   "source": []
  }
 ],
 "metadata": {
  "kernelspec": {
   "display_name": "Python 3 (ipykernel)",
   "language": "python",
   "name": "python3"
  },
  "language_info": {
   "codemirror_mode": {
    "name": "ipython",
    "version": 3
   },
   "file_extension": ".py",
   "mimetype": "text/x-python",
   "name": "python",
   "nbconvert_exporter": "python",
   "pygments_lexer": "ipython3",
   "version": "3.9.13"
  }
 },
 "nbformat": 4,
 "nbformat_minor": 5
}
